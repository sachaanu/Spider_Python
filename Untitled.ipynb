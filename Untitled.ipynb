{
 "cells": [
  {
   "cell_type": "code",
   "execution_count": 2,
   "metadata": {
    "collapsed": true
   },
   "outputs": [],
   "source": [
    "from pandas import *\n",
    "import re\n",
    "import urllib.request                                        ################importing libraries\n",
    "\n",
    "def utkarsh_sachaan_Spider(mainURL,depth):                   #########defining main function\n",
    "    v=0\n",
    "    new_list=[]\n",
    "    links_final=[]\n",
    "    links=[]\n",
    "    temp=[]\n",
    "    depth=int(depth)\n",
    "    try:\n",
    "        \n",
    "        with urllib.request.urlopen(mainURL) as url:          ###reading every line on the website and storing as string\n",
    "            theSite=str(url.read())\n",
    "            \n",
    "    except Exeption:\n",
    "        pass\n",
    "    \n",
    "    links=re.findall('''<a href=\"(.+?)\"''',theSite,re.DOTALL) #creating main list links which has all links on first page or url\n",
    "   \n",
    "    while v<depth:                                            ###############introducing depth\n",
    "        for j in links:                                       ###############iterating each element from the main list\n",
    "            \n",
    "            try:\n",
    "                with urllib.request.urlopen(j) as url2:       ###############for each element in links opening and reading\n",
    "                    tempSite=str(url2.read())\n",
    "                    \n",
    "            except Exception:                                 ###############introducing exeption to remove invalid links\n",
    "                pass\n",
    "            \n",
    "        \n",
    "            links_temp = re.findall('''<a href=\"(.+?)\"''',tempSite,re.DOTALL)\n",
    "            for element in links_temp:\n",
    "                if element not in new_list:                  ################removing duplicates from links_temp\n",
    "                    new_list.append(element)\n",
    "            \n",
    "        \n",
    "        for g in new_list:                                   ################ensuring only unique elements gets added to the final list\n",
    "            if g not in links:\n",
    "                links.append(g)\n",
    "\n",
    "    \n",
    "    \n",
    "    \n",
    "        v=v+1\n",
    "        \n",
    "    for h in links:\n",
    "            if h not in links_final:                       ##############appending final list\n",
    "                links_final.append(h)\n",
    "    print(len(links_final))\n",
    "    return(links_final)\n",
    "\n",
    "\n",
    "\n"
   ]
  },
  {
   "cell_type": "code",
   "execution_count": 11,
   "metadata": {
    "collapsed": false
   },
   "outputs": [
    {
     "name": "stdout",
     "output_type": "stream",
     "text": [
      "30\n"
     ]
    },
    {
     "data": {
      "text/plain": [
       "['http://www.google.com/history/optout?hl=en',\n",
       " '/search?site=&amp;ie=UTF-8&amp;q=Eva+Ekeblad&amp;oi=ddle&amp;ct=eva-ekeblads-293rd-birthday-5169157527044096&amp;hl=en&amp;sa=X&amp;ved=0ahUKEwiet7ywioDVAhWK5oMKHXmNBUsQPQgD',\n",
       " '/advanced_search?hl=en&amp;authuser=0',\n",
       " '/language_tools?hl=en&amp;authuser=0',\n",
       " '/intl/en/ads/',\n",
       " '/services/',\n",
       " 'https://plus.google.com/116899029375914044550',\n",
       " '/intl/en/about.html',\n",
       " '/intl/en/policies/privacy/',\n",
       " '/intl/en/policies/terms/',\n",
       " 'https://support.google.com/accounts/answer/61416',\n",
       " 'https://accounts.google.com/Login',\n",
       " 'https://www.google.com/policies/privacy/',\n",
       " 'https://www.google.com/policies/terms/',\n",
       " 'http://www.google.com/policies/privacy/?hl=en-US',\n",
       " '//plus.google.com/up/tos?hl=en_US',\n",
       " '//www.google.com/intl/en/help/terms_maps.html?hl=en_US',\n",
       " './',\n",
       " './photos/116899029375914044550/albums/profile/6426370108097119906',\n",
       " './collection/I260a',\n",
       " './+google/posts/79wVe7aKY7D',\n",
       " './+google/posts/NFXFomV1p5o',\n",
       " './+google/posts/RLN8A6XjAyj',\n",
       " './+google/posts/NmXnprAUTKi',\n",
       " './+google/posts/4ckxEDdSR3E',\n",
       " './+google/posts/YPoCGkzRb2X',\n",
       " './+google/posts/UhiaYpCJ6GA',\n",
       " './+google/posts/JEVa6HyXgjj',\n",
       " './+google/posts/X9rY5nyXWJG',\n",
       " './+google/posts/APBFkyvQXex']"
      ]
     },
     "execution_count": 11,
     "metadata": {},
     "output_type": "execute_result"
    }
   ],
   "source": [
    "utkarsh_sachaan_Spider(\"https://www.google.com\",1)"
   ]
  },
  {
   "cell_type": "code",
   "execution_count": null,
   "metadata": {
    "collapsed": true
   },
   "outputs": [],
   "source": []
  }
 ],
 "metadata": {
  "kernelspec": {
   "display_name": "Python 3",
   "language": "python",
   "name": "python3"
  },
  "language_info": {
   "codemirror_mode": {
    "name": "ipython",
    "version": 3
   },
   "file_extension": ".py",
   "mimetype": "text/x-python",
   "name": "python",
   "nbconvert_exporter": "python",
   "pygments_lexer": "ipython3",
   "version": "3.6.0"
  }
 },
 "nbformat": 4,
 "nbformat_minor": 2
}
